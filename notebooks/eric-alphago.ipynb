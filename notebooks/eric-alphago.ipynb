{
 "cells": [
  {
   "cell_type": "code",
   "execution_count": 4,
   "metadata": {},
   "outputs": [
    {
     "name": "stdout",
     "output_type": "stream",
     "text": [
      "To play: black\n",
      "Move:   0  Komi: 0.0  Handicap: 0  Captures B: 0 W: 0\n",
      "      A B C D E F G H J  \n",
      "    +-------------------+\n",
      "  9 | . . . . . . . . . |\n",
      "  8 | . . . . . . . . . |\n",
      "  7 | . . . . . . . . . |\n",
      "  6 | . . . . . . . . . |\n",
      "  5 | . . . . . . . . . |\n",
      "  4 | . . . . . . . . . |\n",
      "  3 | . . . . . . . . . |\n",
      "  2 | . . . . . . . . . |\n",
      "  1 | . . . . . . . . . |\n",
      "    +-------------------+\n"
     ]
    },
    {
     "data": {
      "text/plain": [
       "<ipykernel.iostream.OutStream at 0x104d1e438>"
      ]
     },
     "execution_count": 4,
     "metadata": {},
     "output_type": "execute_result"
    }
   ],
   "source": [
    "import gym\n",
    "env = gym.make('Go9x9-v0')\n",
    "env.reset()\n",
    "env.render()"
   ]
  },
  {
   "cell_type": "code",
   "execution_count": null,
   "metadata": {},
   "outputs": [],
   "source": []
  }
 ],
 "metadata": {
  "kernelspec": {
   "display_name": "Python 3",
   "language": "python",
   "name": "python3"
  },
  "language_info": {
   "codemirror_mode": {
    "name": "ipython",
    "version": 3
   },
   "file_extension": ".py",
   "mimetype": "text/x-python",
   "name": "python",
   "nbconvert_exporter": "python",
   "pygments_lexer": "ipython3",
   "version": "3.6.1"
  }
 },
 "nbformat": 4,
 "nbformat_minor": 2
}
