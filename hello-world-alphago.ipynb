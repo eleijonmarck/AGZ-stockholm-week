{
 "cells": [
  {
   "cell_type": "markdown",
   "metadata": {},
   "source": [
    "#### Useful links\n",
    "https://github.com/openai/gym/blob/master/gym/core.py\n",
    "(sample implementation) https://gym.openai.com/evaluations/eval_4hNanao8SIGtvddOSYwU9w/\n",
    "\n",
    "    pip install gym\n",
    "    pip install pachi_py\n"
   ]
  },
  {
   "cell_type": "code",
   "execution_count": 1,
   "metadata": {},
   "outputs": [],
   "source": [
    "\n",
    "\n",
    "import gym\n",
    "import numpy as np\n",
    "env = gym.make('Go9x9-v0')\n"
   ]
  },
  {
   "cell_type": "code",
   "execution_count": 3,
   "metadata": {},
   "outputs": [
    {
     "data": {
      "text/plain": [
       "Discrete(83)"
      ]
     },
     "execution_count": 3,
     "metadata": {},
     "output_type": "execute_result"
    }
   ],
   "source": [
    "env.action_space"
   ]
  },
  {
   "cell_type": "code",
   "execution_count": 11,
   "metadata": {},
   "outputs": [
    {
     "name": "stdout",
     "output_type": "stream",
     "text": [
      "False 0.0\n",
      "False 0.0\n",
      "False 0.0\n",
      "False 0.0\n",
      "False 0.0\n",
      "False 0.0\n",
      "False 0.0\n",
      "True -1.0\n"
     ]
    }
   ],
   "source": [
    "env.reset()\n",
    "game_done = False\n",
    "\n",
    "while(not game_done):\n",
    "    this_action = env.action_space.sample()\n",
    "    observation, reward, game_done, info = env.step(this_action)\n",
    "    print game_done,reward\n"
   ]
  },
  {
   "cell_type": "code",
   "execution_count": 10,
   "metadata": {},
   "outputs": [
    {
     "data": {
      "text/plain": [
       "{'state': To play: black\n",
       " Move:  12  Komi: 0.0  Handicap: 0  Captures B: 0 W: 0\n",
       "       A B C D E F G H J  \n",
       "     +-------------------+\n",
       "   9 | . . . . . . . . . |\n",
       "   8 | X . . . . X . . . |\n",
       "   7 | . . . . O). . . . |\n",
       "   6 | . . . . O X . . . |\n",
       "   5 | . O . X O . . . . |\n",
       "   4 | . . . . O . . . . |\n",
       "   3 | . . . X . . . . . |\n",
       "   2 | . . X . O . . . . |\n",
       "   1 | . . . . . . . . . |\n",
       "     +-------------------+}"
      ]
     },
     "execution_count": 10,
     "metadata": {},
     "output_type": "execute_result"
    }
   ],
   "source": [
    "info"
   ]
  },
  {
   "cell_type": "code",
   "execution_count": 12,
   "metadata": {},
   "outputs": [
    {
     "data": {
      "text/plain": [
       "array([[[0, 0, 0, 0, 0, 0, 0, 0, 0],\n",
       "        [0, 0, 0, 0, 0, 0, 0, 0, 0],\n",
       "        [0, 0, 0, 0, 0, 1, 0, 0, 0],\n",
       "        [0, 1, 0, 0, 1, 0, 0, 0, 1],\n",
       "        [0, 0, 0, 0, 0, 0, 0, 0, 0],\n",
       "        [0, 0, 0, 0, 0, 0, 0, 0, 0],\n",
       "        [0, 1, 0, 0, 0, 0, 0, 0, 0],\n",
       "        [0, 0, 0, 0, 0, 0, 0, 0, 0],\n",
       "        [0, 0, 1, 1, 0, 0, 0, 0, 0]],\n",
       "\n",
       "       [[0, 0, 0, 0, 0, 0, 0, 0, 0],\n",
       "        [0, 1, 0, 0, 0, 0, 0, 0, 0],\n",
       "        [0, 0, 0, 0, 0, 0, 0, 0, 0],\n",
       "        [0, 0, 1, 0, 0, 0, 0, 1, 0],\n",
       "        [0, 0, 0, 0, 0, 0, 0, 0, 0],\n",
       "        [0, 1, 0, 0, 0, 0, 0, 1, 0],\n",
       "        [0, 0, 0, 0, 0, 0, 0, 0, 0],\n",
       "        [0, 1, 0, 0, 0, 0, 1, 0, 0],\n",
       "        [0, 0, 0, 0, 0, 0, 0, 0, 0]],\n",
       "\n",
       "       [[1, 1, 1, 1, 1, 1, 1, 1, 1],\n",
       "        [1, 0, 1, 1, 1, 1, 1, 1, 1],\n",
       "        [1, 1, 1, 1, 1, 0, 1, 1, 1],\n",
       "        [1, 0, 0, 1, 0, 1, 1, 0, 0],\n",
       "        [1, 1, 1, 1, 1, 1, 1, 1, 1],\n",
       "        [1, 0, 1, 1, 1, 1, 1, 0, 1],\n",
       "        [1, 0, 1, 1, 1, 1, 1, 1, 1],\n",
       "        [1, 0, 1, 1, 1, 1, 0, 1, 1],\n",
       "        [1, 1, 0, 0, 1, 1, 1, 1, 1]]])"
      ]
     },
     "execution_count": 12,
     "metadata": {},
     "output_type": "execute_result"
    }
   ],
   "source": [
    "observation"
   ]
  }
 ],
 "metadata": {
  "kernelspec": {
   "display_name": "Python 2",
   "language": "python",
   "name": "python2"
  },
  "language_info": {
   "codemirror_mode": {
    "name": "ipython",
    "version": 2
   },
   "file_extension": ".py",
   "mimetype": "text/x-python",
   "name": "python",
   "nbconvert_exporter": "python",
   "pygments_lexer": "ipython2",
   "version": "2.7.10"
  }
 },
 "nbformat": 4,
 "nbformat_minor": 2
}
