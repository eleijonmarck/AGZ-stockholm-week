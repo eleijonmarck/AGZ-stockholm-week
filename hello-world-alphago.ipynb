{
 "cells": [
  {
   "cell_type": "markdown",
   "metadata": {},
   "source": [
    "## Playing against *pachi* which is some go-bot\n",
    "\n",
    "\n",
    "#### Useful links\n",
    "https://github.com/openai/gym/blob/master/gym/core.py\n",
    "(sample implementation) https://gym.openai.com/evaluations/eval_4hNanao8SIGtvddOSYwU9w/\n",
    "\n",
    "https://github.com/openai/gym/blob/master/gym/envs/board_game/go.py\n",
    "\n",
    "    pip install gym\n",
    "    pip install pachi_py\n"
   ]
  },
  {
   "cell_type": "code",
   "execution_count": 1,
   "metadata": {},
   "outputs": [],
   "source": [
    "import gym\n",
    "import numpy as np\n",
    "env = gym.make('Go9x9-v0')"
   ]
  },
  {
   "cell_type": "code",
   "execution_count": 2,
   "metadata": {},
   "outputs": [
    {
     "data": {
      "text/plain": [
       "Discrete(83)"
      ]
     },
     "execution_count": 2,
     "metadata": {},
     "output_type": "execute_result"
    }
   ],
   "source": [
    "env.action_space"
   ]
  },
  {
   "cell_type": "markdown",
   "metadata": {},
   "source": [
    "Run a game until it ends.. here using a random strategy\n",
    "\n",
    "reward == -1 means we loose."
   ]
  },
  {
   "cell_type": "code",
   "execution_count": 3,
   "metadata": {
    "scrolled": false
   },
   "outputs": [
    {
     "name": "stdout",
     "output_type": "stream",
     "text": [
      "To play: black\n",
      "Move:   0  Komi: 0.0  Handicap: 0  Captures B: 0 W: 0\n",
      "      A B C D E F G H J  \n",
      "    +-------------------+\n",
      "  9 | . . . . . . . . . |\n",
      "  8 | . . . . . . . . . |\n",
      "  7 | . . . . . . . . . |\n",
      "  6 | . . . . . . . . . |\n",
      "  5 | . . . . . . . . . |\n",
      "  4 | . . . . . . . . . |\n",
      "  3 | . . . . . . . . . |\n",
      "  2 | . . . . . . . . . |\n",
      "  1 | . . . . . . . . . |\n",
      "    +-------------------+\n",
      "{'state': To play: black\n",
      "Move:   2  Komi: 0.0  Handicap: 0  Captures B: 0 W: 0\n",
      "      A B C D E F G H J  \n",
      "    +-------------------+\n",
      "  9 | . . . . . . . . . |\n",
      "  8 | . . . . . . . . . |\n",
      "  7 | . . O). . . . . . |\n",
      "  6 | . . . . . . . . . |\n",
      "  5 | . . . . . . . . X |\n",
      "  4 | . . . . . . . . . |\n",
      "  3 | . . . . . . . . . |\n",
      "  2 | . . . . . . . . . |\n",
      "  1 | . . . . . . . . . |\n",
      "    +-------------------+}\n",
      "False 44 0.0\n",
      "{'state': To play: black\n",
      "Move:   4  Komi: 0.0  Handicap: 0  Captures B: 0 W: 0\n",
      "      A B C D E F G H J  \n",
      "    +-------------------+\n",
      "  9 | . . . . . . . . . |\n",
      "  8 | . . . . . . . . . |\n",
      "  7 | . . O . . . . . . |\n",
      "  6 | . . . . . . . . . |\n",
      "  5 | . . . . . . . . X |\n",
      "  4 | . . X . . . . . . |\n",
      "  3 | . . . . . . . . . |\n",
      "  2 | . . O). . . . . . |\n",
      "  1 | . . . . . . . . . |\n",
      "    +-------------------+}\n",
      "False 47 0.0\n",
      "{'state': To play: black\n",
      "Move:   6  Komi: 0.0  Handicap: 0  Captures B: 0 W: 0\n",
      "      A B C D E F G H J  \n",
      "    +-------------------+\n",
      "  9 | . . . . . . . . . |\n",
      "  8 | . . . . . . . . . |\n",
      "  7 | . . O . . . . . . |\n",
      "  6 | . . . . . . . . . |\n",
      "  5 | . . . . . . . . X |\n",
      "  4 | . . X . . . . . . |\n",
      "  3 | . . O). . . . . . |\n",
      "  2 | . X O . . . . . . |\n",
      "  1 | . . . . . . . . . |\n",
      "    +-------------------+}\n",
      "False 64 0.0\n",
      "{'state': To play: black\n",
      "Move:   8  Komi: 0.0  Handicap: 0  Captures B: 0 W: 0\n",
      "      A B C D E F G H J  \n",
      "    +-------------------+\n",
      "  9 | . . . . . . . . . |\n",
      "  8 | . . . . . . . . . |\n",
      "  7 | . . O . . . . . . |\n",
      "  6 | . . . . . . . . . |\n",
      "  5 | . . . . . . . . X |\n",
      "  4 | . . X . . . . . . |\n",
      "  3 | . . O O). . . . . |\n",
      "  2 | . X O . X . . . . |\n",
      "  1 | . . . . . . . . . |\n",
      "    +-------------------+}\n",
      "False 67 0.0\n",
      "{'state': To play: black\n",
      "Move:   8  Komi: 0.0  Handicap: 0  Captures B: 0 W: 0\n",
      "      A B C D E F G H J  \n",
      "    +-------------------+\n",
      "  9 | . . . . . . . . . |\n",
      "  8 | . . . . . . . . . |\n",
      "  7 | . . O . . . . . . |\n",
      "  6 | . . . . . . . . . |\n",
      "  5 | . . . . . . . . X |\n",
      "  4 | . . X . . . . . . |\n",
      "  3 | . . O O). . . . . |\n",
      "  2 | . X O . X . . . . |\n",
      "  1 | . . . . . . . . . |\n",
      "    +-------------------+}\n",
      "True 67 -1.0\n"
     ]
    }
   ],
   "source": [
    "env.reset()\n",
    "env.render()\n",
    "game_done = False\n",
    "while(not game_done):\n",
    "    this_action = env.action_space.sample()\n",
    "    observation, reward, game_done, info = env.step(this_action)        \n",
    "    print info\n",
    "    print game_done,this_action,reward\n"
   ]
  },
  {
   "cell_type": "code",
   "execution_count": 4,
   "metadata": {},
   "outputs": [
    {
     "name": "stdout",
     "output_type": "stream",
     "text": [
      "hello world\n"
     ]
    }
   ],
   "source": [
    "print 'hello world'"
   ]
  },
  {
   "cell_type": "code",
   "execution_count": null,
   "metadata": {},
   "outputs": [],
   "source": []
  }
 ],
 "metadata": {
  "kernelspec": {
   "display_name": "Python 2",
   "language": "python",
   "name": "python2"
  },
  "language_info": {
   "codemirror_mode": {
    "name": "ipython",
    "version": 2
   },
   "file_extension": ".py",
   "mimetype": "text/x-python",
   "name": "python",
   "nbconvert_exporter": "python",
   "pygments_lexer": "ipython2",
   "version": "2.7.10"
  }
 },
 "nbformat": 4,
 "nbformat_minor": 2
}
